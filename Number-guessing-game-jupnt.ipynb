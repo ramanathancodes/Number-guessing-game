{
 "cells": [
  {
   "cell_type": "code",
   "execution_count": 2,
   "metadata": {},
   "outputs": [
    {
     "name": "stdout",
     "output_type": "stream",
     "text": [
      "The number is too lesser than your guess\n",
      "The number is too lesser than your guess\n",
      "The number is too lesser than your guess\n",
      "Congrats! you have guessed it right\n"
     ]
    }
   ],
   "source": [
    "import random\n",
    "try:\n",
    "    lower_bound = int(input(\"Enter a start number:\"))\n",
    "    upper_bound = int(input(\"Enter an end number:\" ))\n",
    "except ValueError:\n",
    "    print(\"Input is not number. Enter a valid number\")\n",
    "max_guesses = 55\n",
    "\n",
    "random_int = random.randint(lower_bound, upper_bound)\n",
    "#print(f\"The random number is {random_int}\")\n",
    "\n",
    "while max_guesses > 0:\n",
    "    try:\n",
    "        guess = int(input(\"Enter a guess:\"))\n",
    "    except ValueError:\n",
    "        print(\"Input is not number. Enter a valid number\")\n",
    "    if guess == random_int:\n",
    "        print(\"Congrats! you have guessed it right\")\n",
    "        break\n",
    "    elif guess < random_int:\n",
    "        print(\"The number is too greater than your guess\")  \n",
    "    else:\n",
    "        print(\"The number is too lesser than your guess\")\n",
    "    max_guesses -= 1\n",
    "\n"
   ]
  },
  {
   "cell_type": "code",
   "execution_count": null,
   "metadata": {},
   "outputs": [],
   "source": []
  }
 ],
 "metadata": {
  "kernelspec": {
   "display_name": "Python 3",
   "language": "python",
   "name": "python3"
  },
  "language_info": {
   "codemirror_mode": {
    "name": "ipython",
    "version": 3
   },
   "file_extension": ".py",
   "mimetype": "text/x-python",
   "name": "python",
   "nbconvert_exporter": "python",
   "pygments_lexer": "ipython3",
   "version": "3.9.6"
  }
 },
 "nbformat": 4,
 "nbformat_minor": 2
}
